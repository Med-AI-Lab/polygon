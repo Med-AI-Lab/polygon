{
 "cells": [
  {
   "cell_type": "code",
   "execution_count": 1,
   "id": "intellectual-edwards",
   "metadata": {},
   "outputs": [],
   "source": [
    "import os\n",
    "os.chdir('..')"
   ]
  },
  {
   "cell_type": "code",
   "execution_count": 2,
   "id": "signal-helicopter",
   "metadata": {},
   "outputs": [
    {
     "name": "stderr",
     "output_type": "stream",
     "text": [
      "/mnt/tank/scratch/tpolevaya/miniconda3/envs/polygon/lib/python3.8/site-packages/torchvision/io/image.py:13: UserWarning: Failed to load image Python extension: libtorch_cuda_cu.so: cannot open shared object file: No such file or directory\n",
      "  warn(f\"Failed to load image Python extension: {e}\")\n"
     ]
    }
   ],
   "source": [
    "from polygon.data import PadUfes20Data\n",
    "from polygon.tasks import PadUfes20_ImageClassification_Task, Phase\n",
    "from torch.utils.data import DataLoader\n",
    "from torchvision.models import resnet34\n",
    "import torch\n",
    "import torch.nn as nn\n",
    "from tqdm.auto import tqdm\n",
    "import torchvision.transforms as TF\n",
    "import numpy as np"
   ]
  },
  {
   "cell_type": "code",
   "execution_count": 3,
   "id": "thousand-melbourne",
   "metadata": {},
   "outputs": [],
   "source": [
    "class ValueCollector:\n",
    "    def __init__(self):\n",
    "        self.values = []\n",
    "    def put(self, vs):\n",
    "        self.values.append(vs)\n",
    "    def get(self):\n",
    "        if len(self.values) == 0: \n",
    "            return []\n",
    "        el = self.values[0]\n",
    "        if isinstance(el, np.ndarray):\n",
    "            return np.concatenate(self.values, axis=0)\n",
    "        if isinstance(el, torch.Tensor):\n",
    "            return torch.cat(self.values, dim=0)\n",
    "        if isinstance(el, (list, tuple)):\n",
    "            L = []\n",
    "            for el in self.values:\n",
    "                L += list(el)\n",
    "            return L\n",
    "        return self.values[:]\n",
    "    \n",
    "def mean(L:list):\n",
    "    if len(L) == 0: return np.nan\n",
    "    return sum(L) / len(L)"
   ]
  },
  {
   "cell_type": "code",
   "execution_count": 4,
   "id": "green-storage",
   "metadata": {},
   "outputs": [],
   "source": [
    "def get_img_tfm():\n",
    "    _normalize = TF.Normalize(mean=[0.485, 0.456, 0.406], std=[0.229, 0.224, 0.225])\n",
    "    return TF.Compose([TF.Resize((256,256)), TF.ToTensor(), _normalize])"
   ]
  },
  {
   "cell_type": "code",
   "execution_count": 5,
   "id": "generous-moment",
   "metadata": {},
   "outputs": [],
   "source": [
    "def create_model():\n",
    "    model = resnet34(weights='IMAGENET1K_V1')\n",
    "    model.fc = nn.Linear(model.fc.in_features, task.get_num_classes())\n",
    "    return model"
   ]
  },
  {
   "cell_type": "code",
   "execution_count": 6,
   "id": "artificial-triumph",
   "metadata": {},
   "outputs": [],
   "source": [
    "def collect_predictions(model, dl, device, show_progress:bool=False):\n",
    "    model = model.eval()\n",
    "    preds_vc, ids_vc = ValueCollector(), ValueCollector()\n",
    "    data_iter = tqdm(dl, leave=False) if show_progress else dl\n",
    "    for batch in data_iter:\n",
    "        with torch.no_grad():\n",
    "            out = model(batch['image'].to(device))\n",
    "        preds_vc.put(out.argmax(dim=1).detach().cpu())\n",
    "        ids_vc.put(batch['ID'])\n",
    "    ids, preds = ids_vc.get(), preds_vc.get()\n",
    "    return dict(zip(ids, preds.numpy().tolist()))"
   ]
  },
  {
   "cell_type": "code",
   "execution_count": 7,
   "id": "military-principal",
   "metadata": {},
   "outputs": [],
   "source": [
    "def do_one_epoch(model, optimizer, loss_fn, dl, device, phase:Phase, show_progress:bool=False):\n",
    "    is_training = (phase == Phase.Train)\n",
    "    if is_training:\n",
    "        model = model.train()\n",
    "    else:\n",
    "        model = model.eval()\n",
    "        \n",
    "    loss_vc = ValueCollector()\n",
    "    data_iter = tqdm(dl, leave=False) if show_progress else dl\n",
    "    for batch in data_iter:\n",
    "        if is_training:\n",
    "            optimizer.zero_grad()\n",
    "            \n",
    "        with torch.set_grad_enabled(is_training):\n",
    "            out = model(batch['image'].to(device))\n",
    "            loss = loss_fn(out, batch['label'].to(device))\n",
    "        loss_vc.put(loss.detach().cpu().item())\n",
    "\n",
    "        if is_training:\n",
    "            loss.backward()\n",
    "            optimizer.step()\n",
    "            \n",
    "    model = model.eval()\n",
    "    print(f'Phase {phase}: loss={mean(loss_vc.get())}')"
   ]
  },
  {
   "cell_type": "code",
   "execution_count": 8,
   "id": "natural-breathing",
   "metadata": {},
   "outputs": [
    {
     "data": {
      "application/vnd.jupyter.widget-view+json": {
       "model_id": "f6f03bc2c4174c86a2c5e7eca07c5f15",
       "version_major": 2,
       "version_minor": 0
      },
      "text/plain": [
       "Epoch:   0%|          | 0/10 [00:00<?, ?it/s]"
      ]
     },
     "metadata": {},
     "output_type": "display_data"
    },
    {
     "data": {
      "application/vnd.jupyter.widget-view+json": {
       "model_id": "",
       "version_major": 2,
       "version_minor": 0
      },
      "text/plain": [
       "  0%|          | 0/44 [00:00<?, ?it/s]"
      ]
     },
     "metadata": {},
     "output_type": "display_data"
    },
    {
     "name": "stdout",
     "output_type": "stream",
     "text": [
      "Phase Phase.Train: loss=1.169006808237596\n"
     ]
    },
    {
     "data": {
      "application/vnd.jupyter.widget-view+json": {
       "model_id": "",
       "version_major": 2,
       "version_minor": 0
      },
      "text/plain": [
       "  0%|          | 0/15 [00:00<?, ?it/s]"
      ]
     },
     "metadata": {},
     "output_type": "display_data"
    },
    {
     "name": "stdout",
     "output_type": "stream",
     "text": [
      "Phase Phase.Valid: loss=1.104682997862498\n"
     ]
    },
    {
     "data": {
      "application/vnd.jupyter.widget-view+json": {
       "model_id": "",
       "version_major": 2,
       "version_minor": 0
      },
      "text/plain": [
       "  0%|          | 0/44 [00:00<?, ?it/s]"
      ]
     },
     "metadata": {},
     "output_type": "display_data"
    },
    {
     "name": "stdout",
     "output_type": "stream",
     "text": [
      "Phase Phase.Train: loss=0.4158215353434736\n"
     ]
    },
    {
     "data": {
      "application/vnd.jupyter.widget-view+json": {
       "model_id": "",
       "version_major": 2,
       "version_minor": 0
      },
      "text/plain": [
       "  0%|          | 0/15 [00:00<?, ?it/s]"
      ]
     },
     "metadata": {},
     "output_type": "display_data"
    },
    {
     "name": "stdout",
     "output_type": "stream",
     "text": [
      "Phase Phase.Valid: loss=1.0143819371859233\n"
     ]
    },
    {
     "data": {
      "application/vnd.jupyter.widget-view+json": {
       "model_id": "",
       "version_major": 2,
       "version_minor": 0
      },
      "text/plain": [
       "  0%|          | 0/44 [00:00<?, ?it/s]"
      ]
     },
     "metadata": {},
     "output_type": "display_data"
    },
    {
     "name": "stdout",
     "output_type": "stream",
     "text": [
      "Phase Phase.Train: loss=0.1314314395527948\n"
     ]
    },
    {
     "data": {
      "application/vnd.jupyter.widget-view+json": {
       "model_id": "",
       "version_major": 2,
       "version_minor": 0
      },
      "text/plain": [
       "  0%|          | 0/15 [00:00<?, ?it/s]"
      ]
     },
     "metadata": {},
     "output_type": "display_data"
    },
    {
     "name": "stdout",
     "output_type": "stream",
     "text": [
      "Phase Phase.Valid: loss=1.1440463582674663\n"
     ]
    },
    {
     "data": {
      "application/vnd.jupyter.widget-view+json": {
       "model_id": "",
       "version_major": 2,
       "version_minor": 0
      },
      "text/plain": [
       "  0%|          | 0/44 [00:00<?, ?it/s]"
      ]
     },
     "metadata": {},
     "output_type": "display_data"
    },
    {
     "name": "stdout",
     "output_type": "stream",
     "text": [
      "Phase Phase.Train: loss=0.06508754858408462\n"
     ]
    },
    {
     "data": {
      "application/vnd.jupyter.widget-view+json": {
       "model_id": "",
       "version_major": 2,
       "version_minor": 0
      },
      "text/plain": [
       "  0%|          | 0/15 [00:00<?, ?it/s]"
      ]
     },
     "metadata": {},
     "output_type": "display_data"
    },
    {
     "name": "stdout",
     "output_type": "stream",
     "text": [
      "Phase Phase.Valid: loss=1.2037929058074952\n"
     ]
    },
    {
     "data": {
      "application/vnd.jupyter.widget-view+json": {
       "model_id": "",
       "version_major": 2,
       "version_minor": 0
      },
      "text/plain": [
       "  0%|          | 0/44 [00:00<?, ?it/s]"
      ]
     },
     "metadata": {},
     "output_type": "display_data"
    },
    {
     "name": "stdout",
     "output_type": "stream",
     "text": [
      "Phase Phase.Train: loss=0.08519787214357745\n"
     ]
    },
    {
     "data": {
      "application/vnd.jupyter.widget-view+json": {
       "model_id": "",
       "version_major": 2,
       "version_minor": 0
      },
      "text/plain": [
       "  0%|          | 0/15 [00:00<?, ?it/s]"
      ]
     },
     "metadata": {},
     "output_type": "display_data"
    },
    {
     "name": "stdout",
     "output_type": "stream",
     "text": [
      "Phase Phase.Valid: loss=1.300639816125234\n"
     ]
    },
    {
     "data": {
      "application/vnd.jupyter.widget-view+json": {
       "model_id": "",
       "version_major": 2,
       "version_minor": 0
      },
      "text/plain": [
       "  0%|          | 0/44 [00:00<?, ?it/s]"
      ]
     },
     "metadata": {},
     "output_type": "display_data"
    },
    {
     "name": "stdout",
     "output_type": "stream",
     "text": [
      "Phase Phase.Train: loss=0.127736300568689\n"
     ]
    },
    {
     "data": {
      "application/vnd.jupyter.widget-view+json": {
       "model_id": "",
       "version_major": 2,
       "version_minor": 0
      },
      "text/plain": [
       "  0%|          | 0/15 [00:00<?, ?it/s]"
      ]
     },
     "metadata": {},
     "output_type": "display_data"
    },
    {
     "name": "stdout",
     "output_type": "stream",
     "text": [
      "Phase Phase.Valid: loss=1.3982529242833455\n"
     ]
    },
    {
     "data": {
      "application/vnd.jupyter.widget-view+json": {
       "model_id": "",
       "version_major": 2,
       "version_minor": 0
      },
      "text/plain": [
       "  0%|          | 0/44 [00:00<?, ?it/s]"
      ]
     },
     "metadata": {},
     "output_type": "display_data"
    },
    {
     "name": "stdout",
     "output_type": "stream",
     "text": [
      "Phase Phase.Train: loss=0.07887207136743447\n"
     ]
    },
    {
     "data": {
      "application/vnd.jupyter.widget-view+json": {
       "model_id": "",
       "version_major": 2,
       "version_minor": 0
      },
      "text/plain": [
       "  0%|          | 0/15 [00:00<?, ?it/s]"
      ]
     },
     "metadata": {},
     "output_type": "display_data"
    },
    {
     "name": "stdout",
     "output_type": "stream",
     "text": [
      "Phase Phase.Valid: loss=1.6424175381660462\n"
     ]
    },
    {
     "data": {
      "application/vnd.jupyter.widget-view+json": {
       "model_id": "",
       "version_major": 2,
       "version_minor": 0
      },
      "text/plain": [
       "  0%|          | 0/44 [00:00<?, ?it/s]"
      ]
     },
     "metadata": {},
     "output_type": "display_data"
    },
    {
     "name": "stdout",
     "output_type": "stream",
     "text": [
      "Phase Phase.Train: loss=0.047301268205046654\n"
     ]
    },
    {
     "data": {
      "application/vnd.jupyter.widget-view+json": {
       "model_id": "",
       "version_major": 2,
       "version_minor": 0
      },
      "text/plain": [
       "  0%|          | 0/15 [00:00<?, ?it/s]"
      ]
     },
     "metadata": {},
     "output_type": "display_data"
    },
    {
     "name": "stdout",
     "output_type": "stream",
     "text": [
      "Phase Phase.Valid: loss=1.294946519533793\n"
     ]
    },
    {
     "data": {
      "application/vnd.jupyter.widget-view+json": {
       "model_id": "",
       "version_major": 2,
       "version_minor": 0
      },
      "text/plain": [
       "  0%|          | 0/44 [00:00<?, ?it/s]"
      ]
     },
     "metadata": {},
     "output_type": "display_data"
    },
    {
     "name": "stdout",
     "output_type": "stream",
     "text": [
      "Phase Phase.Train: loss=0.11110905883833766\n"
     ]
    },
    {
     "data": {
      "application/vnd.jupyter.widget-view+json": {
       "model_id": "",
       "version_major": 2,
       "version_minor": 0
      },
      "text/plain": [
       "  0%|          | 0/15 [00:00<?, ?it/s]"
      ]
     },
     "metadata": {},
     "output_type": "display_data"
    },
    {
     "name": "stdout",
     "output_type": "stream",
     "text": [
      "Phase Phase.Valid: loss=1.5589163819948832\n"
     ]
    },
    {
     "data": {
      "application/vnd.jupyter.widget-view+json": {
       "model_id": "",
       "version_major": 2,
       "version_minor": 0
      },
      "text/plain": [
       "  0%|          | 0/44 [00:00<?, ?it/s]"
      ]
     },
     "metadata": {},
     "output_type": "display_data"
    },
    {
     "name": "stdout",
     "output_type": "stream",
     "text": [
      "Phase Phase.Train: loss=0.12883474200498313\n"
     ]
    },
    {
     "data": {
      "application/vnd.jupyter.widget-view+json": {
       "model_id": "",
       "version_major": 2,
       "version_minor": 0
      },
      "text/plain": [
       "  0%|          | 0/15 [00:00<?, ?it/s]"
      ]
     },
     "metadata": {},
     "output_type": "display_data"
    },
    {
     "name": "stdout",
     "output_type": "stream",
     "text": [
      "Phase Phase.Valid: loss=1.563395889600118\n"
     ]
    }
   ],
   "source": [
    "data = PadUfes20Data('../polygon_data')\n",
    "task = PadUfes20_ImageClassification_Task(data, seed=0)\n",
    "\n",
    "train_dl = DataLoader(task.get_dataset(Phase.Train, tfm=get_img_tfm()), batch_size=32, shuffle=True)\n",
    "valid_dl = DataLoader(task.get_dataset(Phase.Valid, tfm=get_img_tfm()), batch_size=32, shuffle=False)\n",
    "test_dl = DataLoader(task.get_dataset(Phase.Test, tfm=get_img_tfm()), batch_size=32, shuffle=False)\n",
    "\n",
    "device = torch.device('cuda')\n",
    "model = create_model().to(device).eval()\n",
    "optimizer = torch.optim.Adam(model.parameters(), lr=1e-4)\n",
    "loss_fn = nn.CrossEntropyLoss()\n",
    "\n",
    "num_epochs = 10\n",
    "for epoch in tqdm(list(range(num_epochs)), desc='Epoch'):\n",
    "    do_one_epoch(model, optimizer, loss_fn, train_dl, device, phase=Phase.Train, show_progress=True)\n",
    "    do_one_epoch(model, None, loss_fn, valid_dl, device, phase=Phase.Valid, show_progress=True)"
   ]
  },
  {
   "cell_type": "code",
   "execution_count": 9,
   "id": "combined-homework",
   "metadata": {},
   "outputs": [],
   "source": [
    "test_predictions = collect_predictions(model, test_dl, device)"
   ]
  },
  {
   "cell_type": "code",
   "execution_count": 10,
   "id": "delayed-lounge",
   "metadata": {},
   "outputs": [
    {
     "data": {
      "text/plain": [
       "{'balanced_accuracy': 0.6014822631438033}"
      ]
     },
     "execution_count": 10,
     "metadata": {},
     "output_type": "execute_result"
    }
   ],
   "source": [
    "task.evaluate(Phase.Test, test_predictions)"
   ]
  },
  {
   "cell_type": "code",
   "execution_count": null,
   "id": "allied-temple",
   "metadata": {},
   "outputs": [],
   "source": []
  }
 ],
 "metadata": {
  "kernelspec": {
   "display_name": "polygon",
   "language": "python",
   "name": "polygon"
  },
  "language_info": {
   "codemirror_mode": {
    "name": "ipython",
    "version": 3
   },
   "file_extension": ".py",
   "mimetype": "text/x-python",
   "name": "python",
   "nbconvert_exporter": "python",
   "pygments_lexer": "ipython3",
   "version": "3.8.13"
  }
 },
 "nbformat": 4,
 "nbformat_minor": 5
}
