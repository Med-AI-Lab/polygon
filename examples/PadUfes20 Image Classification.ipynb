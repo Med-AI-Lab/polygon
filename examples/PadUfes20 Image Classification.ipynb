{
 "cells": [
  {
   "cell_type": "code",
   "execution_count": 1,
   "id": "private-company",
   "metadata": {},
   "outputs": [],
   "source": [
    "import os\n",
    "os.chdir('..')"
   ]
  },
  {
   "cell_type": "code",
   "execution_count": 2,
   "id": "affiliated-luther",
   "metadata": {},
   "outputs": [
    {
     "name": "stderr",
     "output_type": "stream",
     "text": [
      "/mnt/tank/scratch/tpolevaya/miniconda3/envs/polygon/lib/python3.8/site-packages/torchvision/io/image.py:13: UserWarning: Failed to load image Python extension: libtorch_cuda_cu.so: cannot open shared object file: No such file or directory\n",
      "  warn(f\"Failed to load image Python extension: {e}\")\n"
     ]
    }
   ],
   "source": [
    "from polygon.data import PadUfes20Data\n",
    "from polygon.tasks import PadUfes20_ImageClassification_Task, Phase\n",
    "from torch.utils.data import DataLoader\n",
    "from torchvision.models import resnet34\n",
    "import torch\n",
    "import torch.nn as nn\n",
    "from tqdm.auto import tqdm\n",
    "import torchvision.transforms as TF\n",
    "import numpy as np"
   ]
  },
  {
   "cell_type": "code",
   "execution_count": 3,
   "id": "agricultural-equity",
   "metadata": {},
   "outputs": [],
   "source": [
    "class ValueCollector:\n",
    "    def __init__(self):\n",
    "        self.values = []\n",
    "    def put(self, vs):\n",
    "        self.values.append(vs)\n",
    "    def get(self):\n",
    "        if len(self.values) == 0: \n",
    "            return []\n",
    "        el = self.values[0]\n",
    "        if isinstance(el, np.ndarray):\n",
    "            return np.concatenate(self.values, axis=0)\n",
    "        if isinstance(el, torch.Tensor):\n",
    "            return torch.cat(self.values, dim=0)\n",
    "        if isinstance(el, (list, tuple)):\n",
    "            L = []\n",
    "            for el in self.values:\n",
    "                L += list(el)\n",
    "            return L\n",
    "        return self.values[:]\n",
    "    \n",
    "def mean(L:list):\n",
    "    if len(L) == 0: return np.nan\n",
    "    return sum(L) / len(L)"
   ]
  },
  {
   "cell_type": "code",
   "execution_count": 4,
   "id": "physical-snapshot",
   "metadata": {},
   "outputs": [],
   "source": [
    "def get_img_tfm():\n",
    "    _normalize = TF.Normalize(mean=[0.485, 0.456, 0.406], std=[0.229, 0.224, 0.225])\n",
    "    return TF.Compose([TF.Resize((256,256)), TF.ToTensor(), _normalize])"
   ]
  },
  {
   "cell_type": "code",
   "execution_count": 5,
   "id": "french-design",
   "metadata": {},
   "outputs": [],
   "source": [
    "def create_model():\n",
    "    model = resnet34(weights='IMAGENET1K_V1')\n",
    "    model.fc = nn.Linear(model.fc.in_features, task.get_num_classes())\n",
    "    return model"
   ]
  },
  {
   "cell_type": "code",
   "execution_count": 6,
   "id": "endangered-buffer",
   "metadata": {},
   "outputs": [],
   "source": [
    "def collect_predictions(model, dl, device, show_progress:bool=False):\n",
    "    model = model.eval()\n",
    "    preds_vc, ids_vc = ValueCollector(), ValueCollector()\n",
    "    data_iter = tqdm(dl, leave=False) if show_progress else dl\n",
    "    for batch in data_iter:\n",
    "        with torch.no_grad():\n",
    "            out = model(batch['image'].to(device))\n",
    "        preds_vc.put(out.argmax(dim=1).detach().cpu())\n",
    "        ids_vc.put(batch['ID'])\n",
    "    ids, preds = ids_vc.get(), preds_vc.get()\n",
    "    return dict(zip(ids, preds.numpy().tolist()))"
   ]
  },
  {
   "cell_type": "code",
   "execution_count": 7,
   "id": "delayed-possibility",
   "metadata": {},
   "outputs": [],
   "source": [
    "def do_one_epoch(model, optimizer, loss_fn, dl, device, phase:Phase, show_progress:bool=False):\n",
    "    is_training = (phase == Phase.Train)\n",
    "    if is_training:\n",
    "        model = model.train()\n",
    "    else:\n",
    "        model = model.eval()\n",
    "        \n",
    "    loss_vc = ValueCollector()\n",
    "    data_iter = tqdm(dl, leave=False) if show_progress else dl\n",
    "    for batch in data_iter:\n",
    "        if is_training:\n",
    "            optimizer.zero_grad()\n",
    "            \n",
    "        with torch.set_grad_enabled(is_training):\n",
    "            out = model(batch['image'].to(device))\n",
    "            loss = loss_fn(out, batch['label'].to(device))\n",
    "        loss_vc.put(loss.detach().cpu().item())\n",
    "\n",
    "        if is_training:\n",
    "            loss.backward()\n",
    "            optimizer.step()\n",
    "            \n",
    "    model = model.eval()\n",
    "    print(f'Phase {phase}: loss={mean(loss_vc.get())}')"
   ]
  },
  {
   "cell_type": "code",
   "execution_count": 8,
   "id": "extra-deadline",
   "metadata": {},
   "outputs": [
    {
     "data": {
      "application/vnd.jupyter.widget-view+json": {
       "model_id": "d324ab159083480c97425f897fd89219",
       "version_major": 2,
       "version_minor": 0
      },
      "text/plain": [
       "Epoch:   0%|          | 0/10 [00:00<?, ?it/s]"
      ]
     },
     "metadata": {},
     "output_type": "display_data"
    },
    {
     "data": {
      "application/vnd.jupyter.widget-view+json": {
       "model_id": "",
       "version_major": 2,
       "version_minor": 0
      },
      "text/plain": [
       "  0%|          | 0/44 [00:00<?, ?it/s]"
      ]
     },
     "metadata": {},
     "output_type": "display_data"
    },
    {
     "name": "stdout",
     "output_type": "stream",
     "text": [
      "Phase Phase.Train: loss=1.180635385892608\n"
     ]
    },
    {
     "data": {
      "application/vnd.jupyter.widget-view+json": {
       "model_id": "",
       "version_major": 2,
       "version_minor": 0
      },
      "text/plain": [
       "  0%|          | 0/15 [00:00<?, ?it/s]"
      ]
     },
     "metadata": {},
     "output_type": "display_data"
    },
    {
     "name": "stdout",
     "output_type": "stream",
     "text": [
      "Phase Phase.Valid: loss=1.1088705897331237\n"
     ]
    },
    {
     "data": {
      "application/vnd.jupyter.widget-view+json": {
       "model_id": "",
       "version_major": 2,
       "version_minor": 0
      },
      "text/plain": [
       "  0%|          | 0/44 [00:00<?, ?it/s]"
      ]
     },
     "metadata": {},
     "output_type": "display_data"
    },
    {
     "name": "stdout",
     "output_type": "stream",
     "text": [
      "Phase Phase.Train: loss=0.4132461097430099\n"
     ]
    },
    {
     "data": {
      "application/vnd.jupyter.widget-view+json": {
       "model_id": "",
       "version_major": 2,
       "version_minor": 0
      },
      "text/plain": [
       "  0%|          | 0/15 [00:00<?, ?it/s]"
      ]
     },
     "metadata": {},
     "output_type": "display_data"
    },
    {
     "name": "stdout",
     "output_type": "stream",
     "text": [
      "Phase Phase.Valid: loss=1.1048652172088622\n"
     ]
    },
    {
     "data": {
      "application/vnd.jupyter.widget-view+json": {
       "model_id": "",
       "version_major": 2,
       "version_minor": 0
      },
      "text/plain": [
       "  0%|          | 0/44 [00:00<?, ?it/s]"
      ]
     },
     "metadata": {},
     "output_type": "display_data"
    },
    {
     "name": "stdout",
     "output_type": "stream",
     "text": [
      "Phase Phase.Train: loss=0.20171940834684807\n"
     ]
    },
    {
     "data": {
      "application/vnd.jupyter.widget-view+json": {
       "model_id": "",
       "version_major": 2,
       "version_minor": 0
      },
      "text/plain": [
       "  0%|          | 0/15 [00:00<?, ?it/s]"
      ]
     },
     "metadata": {},
     "output_type": "display_data"
    },
    {
     "name": "stdout",
     "output_type": "stream",
     "text": [
      "Phase Phase.Valid: loss=1.1491514285405477\n"
     ]
    },
    {
     "data": {
      "application/vnd.jupyter.widget-view+json": {
       "model_id": "",
       "version_major": 2,
       "version_minor": 0
      },
      "text/plain": [
       "  0%|          | 0/44 [00:00<?, ?it/s]"
      ]
     },
     "metadata": {},
     "output_type": "display_data"
    },
    {
     "name": "stdout",
     "output_type": "stream",
     "text": [
      "Phase Phase.Train: loss=0.18143150557509877\n"
     ]
    },
    {
     "data": {
      "application/vnd.jupyter.widget-view+json": {
       "model_id": "",
       "version_major": 2,
       "version_minor": 0
      },
      "text/plain": [
       "  0%|          | 0/15 [00:00<?, ?it/s]"
      ]
     },
     "metadata": {},
     "output_type": "display_data"
    },
    {
     "name": "stdout",
     "output_type": "stream",
     "text": [
      "Phase Phase.Valid: loss=1.2397327542304992\n"
     ]
    },
    {
     "data": {
      "application/vnd.jupyter.widget-view+json": {
       "model_id": "",
       "version_major": 2,
       "version_minor": 0
      },
      "text/plain": [
       "  0%|          | 0/44 [00:00<?, ?it/s]"
      ]
     },
     "metadata": {},
     "output_type": "display_data"
    },
    {
     "name": "stdout",
     "output_type": "stream",
     "text": [
      "Phase Phase.Train: loss=0.11420642554929311\n"
     ]
    },
    {
     "data": {
      "application/vnd.jupyter.widget-view+json": {
       "model_id": "",
       "version_major": 2,
       "version_minor": 0
      },
      "text/plain": [
       "  0%|          | 0/15 [00:00<?, ?it/s]"
      ]
     },
     "metadata": {},
     "output_type": "display_data"
    },
    {
     "name": "stdout",
     "output_type": "stream",
     "text": [
      "Phase Phase.Valid: loss=1.2303779164950053\n"
     ]
    },
    {
     "data": {
      "application/vnd.jupyter.widget-view+json": {
       "model_id": "",
       "version_major": 2,
       "version_minor": 0
      },
      "text/plain": [
       "  0%|          | 0/44 [00:00<?, ?it/s]"
      ]
     },
     "metadata": {},
     "output_type": "display_data"
    },
    {
     "name": "stdout",
     "output_type": "stream",
     "text": [
      "Phase Phase.Train: loss=0.18400840543803165\n"
     ]
    },
    {
     "data": {
      "application/vnd.jupyter.widget-view+json": {
       "model_id": "",
       "version_major": 2,
       "version_minor": 0
      },
      "text/plain": [
       "  0%|          | 0/15 [00:00<?, ?it/s]"
      ]
     },
     "metadata": {},
     "output_type": "display_data"
    },
    {
     "name": "stdout",
     "output_type": "stream",
     "text": [
      "Phase Phase.Valid: loss=1.4660700718561808\n"
     ]
    },
    {
     "data": {
      "application/vnd.jupyter.widget-view+json": {
       "model_id": "",
       "version_major": 2,
       "version_minor": 0
      },
      "text/plain": [
       "  0%|          | 0/44 [00:00<?, ?it/s]"
      ]
     },
     "metadata": {},
     "output_type": "display_data"
    },
    {
     "name": "stdout",
     "output_type": "stream",
     "text": [
      "Phase Phase.Train: loss=0.14650861749594862\n"
     ]
    },
    {
     "data": {
      "application/vnd.jupyter.widget-view+json": {
       "model_id": "",
       "version_major": 2,
       "version_minor": 0
      },
      "text/plain": [
       "  0%|          | 0/15 [00:00<?, ?it/s]"
      ]
     },
     "metadata": {},
     "output_type": "display_data"
    },
    {
     "name": "stdout",
     "output_type": "stream",
     "text": [
      "Phase Phase.Valid: loss=1.5038851737976073\n"
     ]
    },
    {
     "data": {
      "application/vnd.jupyter.widget-view+json": {
       "model_id": "",
       "version_major": 2,
       "version_minor": 0
      },
      "text/plain": [
       "  0%|          | 0/44 [00:00<?, ?it/s]"
      ]
     },
     "metadata": {},
     "output_type": "display_data"
    },
    {
     "name": "stdout",
     "output_type": "stream",
     "text": [
      "Phase Phase.Train: loss=0.15909515858881854\n"
     ]
    },
    {
     "data": {
      "application/vnd.jupyter.widget-view+json": {
       "model_id": "",
       "version_major": 2,
       "version_minor": 0
      },
      "text/plain": [
       "  0%|          | 0/15 [00:00<?, ?it/s]"
      ]
     },
     "metadata": {},
     "output_type": "display_data"
    },
    {
     "name": "stdout",
     "output_type": "stream",
     "text": [
      "Phase Phase.Valid: loss=1.4045368234316509\n"
     ]
    },
    {
     "data": {
      "application/vnd.jupyter.widget-view+json": {
       "model_id": "",
       "version_major": 2,
       "version_minor": 0
      },
      "text/plain": [
       "  0%|          | 0/44 [00:00<?, ?it/s]"
      ]
     },
     "metadata": {},
     "output_type": "display_data"
    },
    {
     "name": "stdout",
     "output_type": "stream",
     "text": [
      "Phase Phase.Train: loss=0.12796729475005783\n"
     ]
    },
    {
     "data": {
      "application/vnd.jupyter.widget-view+json": {
       "model_id": "",
       "version_major": 2,
       "version_minor": 0
      },
      "text/plain": [
       "  0%|          | 0/15 [00:00<?, ?it/s]"
      ]
     },
     "metadata": {},
     "output_type": "display_data"
    },
    {
     "name": "stdout",
     "output_type": "stream",
     "text": [
      "Phase Phase.Valid: loss=1.401225984096527\n"
     ]
    },
    {
     "data": {
      "application/vnd.jupyter.widget-view+json": {
       "model_id": "",
       "version_major": 2,
       "version_minor": 0
      },
      "text/plain": [
       "  0%|          | 0/44 [00:00<?, ?it/s]"
      ]
     },
     "metadata": {},
     "output_type": "display_data"
    },
    {
     "name": "stdout",
     "output_type": "stream",
     "text": [
      "Phase Phase.Train: loss=0.14289844626645473\n"
     ]
    },
    {
     "data": {
      "application/vnd.jupyter.widget-view+json": {
       "model_id": "",
       "version_major": 2,
       "version_minor": 0
      },
      "text/plain": [
       "  0%|          | 0/15 [00:00<?, ?it/s]"
      ]
     },
     "metadata": {},
     "output_type": "display_data"
    },
    {
     "name": "stdout",
     "output_type": "stream",
     "text": [
      "Phase Phase.Valid: loss=1.3862821300824484\n"
     ]
    }
   ],
   "source": [
    "data = PadUfes20Data('../polygon_data')\n",
    "task = PadUfes20_ImageClassification_Task(data, seed=0)\n",
    "\n",
    "train_dl = DataLoader(task.get_dataset(Phase.Train, tfm=get_img_tfm()), batch_size=32, shuffle=True)\n",
    "valid_dl = DataLoader(task.get_dataset(Phase.Valid, tfm=get_img_tfm()), batch_size=32, shuffle=False)\n",
    "test_dl = DataLoader(task.get_dataset(Phase.Test, tfm=get_img_tfm()), batch_size=32, shuffle=False)\n",
    "\n",
    "device = torch.device('cuda')\n",
    "model = create_model().to(device).eval()\n",
    "optimizer = torch.optim.Adam(model.parameters(), lr=1e-4)\n",
    "loss_fn = nn.CrossEntropyLoss()\n",
    "\n",
    "num_epochs = 10\n",
    "for epoch in tqdm(list(range(num_epochs)), desc='Epoch'):\n",
    "    do_one_epoch(model, optimizer, loss_fn, train_dl, device, phase=Phase.Train, show_progress=True)\n",
    "    do_one_epoch(model, None, loss_fn, valid_dl, device, phase=Phase.Valid, show_progress=True)"
   ]
  },
  {
   "cell_type": "code",
   "execution_count": 9,
   "id": "religious-shanghai",
   "metadata": {},
   "outputs": [],
   "source": [
    "test_predictions = collect_predictions(model, test_dl, device)"
   ]
  },
  {
   "cell_type": "code",
   "execution_count": 10,
   "id": "adapted-validation",
   "metadata": {},
   "outputs": [
    {
     "data": {
      "text/plain": [
       "{'balanced_accuracy': 0.5207003931847116}"
      ]
     },
     "execution_count": 10,
     "metadata": {},
     "output_type": "execute_result"
    }
   ],
   "source": [
    "task.evaluate(Phase.Test, test_predictions)"
   ]
  }
 ],
 "metadata": {
  "kernelspec": {
   "display_name": "polygon",
   "language": "python",
   "name": "polygon"
  },
  "language_info": {
   "codemirror_mode": {
    "name": "ipython",
    "version": 3
   },
   "file_extension": ".py",
   "mimetype": "text/x-python",
   "name": "python",
   "nbconvert_exporter": "python",
   "pygments_lexer": "ipython3",
   "version": "3.8.13"
  }
 },
 "nbformat": 4,
 "nbformat_minor": 5
}
